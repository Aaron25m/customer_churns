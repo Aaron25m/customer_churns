{
 "cells": [
  {
   "cell_type": "code",
   "execution_count": 1,
   "metadata": {},
   "outputs": [],
   "source": [
    "# read and write raw data\n",
    "import pandas as pd\n",
    "data = pd.read_csv('https://raw.githubusercontent.com/srees1988/predict-churn-py/main/customer_churn_data.csv')\n",
    "data.to_csv('./data/raw_data.csv')\n",
    "# replace blanks with np.nan\n",
    "import numpy as np\n",
    "data['TotalCharges'] = data['TotalCharges'].replace(' ', np.nan).astype('float64')\n",
    "# write final data\n",
    "data.to_csv('./data/final_data.csv')"
   ]
  }
 ],
 "metadata": {
  "kernelspec": {
   "display_name": "base",
   "language": "python",
   "name": "python3"
  },
  "language_info": {
   "codemirror_mode": {
    "name": "ipython",
    "version": 3
   },
   "file_extension": ".py",
   "mimetype": "text/x-python",
   "name": "python",
   "nbconvert_exporter": "python",
   "pygments_lexer": "ipython3",
   "version": "3.9.12"
  }
 },
 "nbformat": 4,
 "nbformat_minor": 2
}
